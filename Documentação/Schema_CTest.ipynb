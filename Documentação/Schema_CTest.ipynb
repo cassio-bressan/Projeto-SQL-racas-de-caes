{
 "cells": [
  {
   "cell_type": "code",
   "execution_count": 1,
   "id": "78dbfdef",
   "metadata": {},
   "outputs": [],
   "source": [
    "# Importando a biblioteca.\n",
    "import pymysql "
   ]
  },
  {
   "cell_type": "code",
   "execution_count": null,
   "id": "c2daad4d",
   "metadata": {},
   "outputs": [
    {
     "name": "stdout",
     "output_type": "stream",
     "text": [
      "✅ Conexão com o banco realizada com sucesso!\n",
      "\n",
      "📋 Tabelas encontradas no banco:\n",
      "{'Tables_in_projeto_sql': 'breed_eye_color'}\n",
      "{'Tables_in_projeto_sql': 'breed_fur_color'}\n",
      "{'Tables_in_projeto_sql': 'breed_hp'}\n",
      "{'Tables_in_projeto_sql': 'breed_traits'}\n",
      "{'Tables_in_projeto_sql': 'breeds'}\n",
      "{'Tables_in_projeto_sql': 'character_traits'}\n",
      "{'Tables_in_projeto_sql': 'eye_colors'}\n",
      "{'Tables_in_projeto_sql': 'fur_colors'}\n",
      "{'Tables_in_projeto_sql': 'health_problems'}\n",
      "{'Tables_in_projeto_sql': 'racas_caes'}\n",
      "\n",
      "🔒 Conexão encerrada com sucesso.\n"
     ]
    }
   ],
   "source": [
    "# Etapa 1: Conectar ao banco de dados\n",
    "try:\n",
    "    conection = pymysql.connect(\n",
    "        host='localhost',\n",
    "        user='root',               \n",
    "        password='password',  \n",
    "        database='projeto_sql',\n",
    "        charset='utf8mb4',\n",
    "        cursorclass=pymysql.cursors.DictCursor\n",
    "    )\n",
    "    print(\"✅ Conexão com o banco realizada com sucesso!\")\n",
    "\n",
    "# Etapa 2: Mostrar as tabelas do banco\n",
    "    with conection.cursor() as cursor:\n",
    "        cursor.execute(\"SHOW TABLES;\")\n",
    "        resultados = cursor.fetchall()\n",
    "\n",
    "        print(\"\\n📋 Tabelas encontradas no banco:\")\n",
    "        for linha in resultados:\n",
    "            print(linha)\n",
    "# Etapa 2.1: Mostrar uma mensagem de erro caso a conexão falhe.\n",
    "except pymysql.MySQLError as e:\n",
    "    print(\"❌ Erro ao conectar com o banco de dados:\")\n",
    "    print(e)\n",
    "# Etapa 3: Fechar a conexão (se foi aberta com sucesso)\n",
    "finally:\n",
    "    try:\n",
    "        conection.close()\n",
    "        print(\"\\n🔒 Conexão encerrada com sucesso.\")\n",
    "    except:\n",
    "        pass  # ignora erro se conn não foi criada"
   ]
  }
 ],
 "metadata": {
  "kernelspec": {
   "display_name": "base",
   "language": "python",
   "name": "python3"
  },
  "language_info": {
   "codemirror_mode": {
    "name": "ipython",
    "version": 3
   },
   "file_extension": ".py",
   "mimetype": "text/x-python",
   "name": "python",
   "nbconvert_exporter": "python",
   "pygments_lexer": "ipython3",
   "version": "3.11.7"
  }
 },
 "nbformat": 4,
 "nbformat_minor": 5
}
