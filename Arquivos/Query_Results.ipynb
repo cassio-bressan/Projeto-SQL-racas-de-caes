{
 "cells": [
  {
   "cell_type": "markdown",
   "id": "418e4403",
   "metadata": {},
   "source": [
    "# Resultados das consultas 📖\n",
    "\n",
    "#### **Neste arquivo estão os resultados de todas as consultas realizadas no projeto em formato de dataframes.**"
   ]
  },
  {
   "cell_type": "code",
   "execution_count": 4,
   "id": "31e26c09",
   "metadata": {},
   "outputs": [],
   "source": [
    "# Importando biblioteca.\n",
    "import pandas as pd"
   ]
  },
  {
   "cell_type": "code",
   "execution_count": 5,
   "id": "d7348cca",
   "metadata": {},
   "outputs": [],
   "source": [
    "# Importando os arquivos CSV.\n",
    "df1 = pd.read_csv(r\"C:\\Users\\cassi\\GitHub\\Projeto-racas-de-caes\\Arquivos/Resultado1.csv\")\n",
    "df2 = pd.read_csv(r\"C:\\Users\\cassi\\GitHub\\Projeto-racas-de-caes\\Arquivos/Resultado2.csv\")\n",
    "df3 = pd.read_csv(r\"C:\\Users\\cassi\\GitHub\\Projeto-racas-de-caes\\Arquivos/Resultado3.csv\")\n",
    "df4 = pd.read_csv(r\"C:\\Users\\cassi\\GitHub\\Projeto-racas-de-caes\\Arquivos/Resultado4.csv\")\n",
    "df5 = pd.read_csv(r\"C:\\Users\\cassi\\GitHub\\Projeto-racas-de-caes\\Arquivos/Resultado5.csv\")\n",
    "df6 = pd.read_csv(r\"C:\\Users\\cassi\\GitHub\\Projeto-racas-de-caes\\Arquivos/Resultado6.csv\")\n",
    "df7 = pd.read_csv(r\"C:\\Users\\cassi\\GitHub\\Projeto-racas-de-caes\\Arquivos/Resultado7.csv\")   \n",
    "df7_1 = pd.read_csv(r\"C:\\Users\\cassi\\GitHub\\Projeto-racas-de-caes\\Arquivos/Resultado7_1.csv\")\n",
    "df8 = pd.read_csv(r\"C:\\Users\\cassi\\GitHub\\Projeto-racas-de-caes\\Arquivos/Resultado8.csv\")\n",
    "df9 = pd.read_csv(r\"C:\\Users\\cassi\\GitHub\\Projeto-racas-de-caes\\Arquivos/Resultado9.csv\")\n",
    "df10 = pd.read_csv(r\"C:\\Users\\cassi\\GitHub\\Projeto-racas-de-caes\\Arquivos/Resultado10.csv\")"
   ]
  },
  {
   "cell_type": "code",
   "execution_count": 6,
   "id": "68eb5764",
   "metadata": {},
   "outputs": [
    {
     "data": {
      "application/vnd.microsoft.datawrangler.viewer.v0+json": {
       "columns": [
        {
         "name": "index",
         "rawType": "int64",
         "type": "integer"
        },
        {
         "name": "problem",
         "rawType": "object",
         "type": "string"
        },
        {
         "name": "problem_count",
         "rawType": "int64",
         "type": "integer"
        }
       ],
       "ref": "a84f75d7-e19d-460b-b844-7f0b0cf7307d",
       "rows": [
        [
         "0",
         "Eye Problems",
         "78"
        ],
        [
         "1",
         "Dental Problems",
         "75"
        ],
        [
         "2",
         "Skin allergies",
         "72"
        ]
       ],
       "shape": {
        "columns": 2,
        "rows": 3
       }
      },
      "text/html": [
       "<div>\n",
       "<style scoped>\n",
       "    .dataframe tbody tr th:only-of-type {\n",
       "        vertical-align: middle;\n",
       "    }\n",
       "\n",
       "    .dataframe tbody tr th {\n",
       "        vertical-align: top;\n",
       "    }\n",
       "\n",
       "    .dataframe thead th {\n",
       "        text-align: right;\n",
       "    }\n",
       "</style>\n",
       "<table border=\"1\" class=\"dataframe\">\n",
       "  <thead>\n",
       "    <tr style=\"text-align: right;\">\n",
       "      <th></th>\n",
       "      <th>problem</th>\n",
       "      <th>problem_count</th>\n",
       "    </tr>\n",
       "  </thead>\n",
       "  <tbody>\n",
       "    <tr>\n",
       "      <th>0</th>\n",
       "      <td>Eye Problems</td>\n",
       "      <td>78</td>\n",
       "    </tr>\n",
       "    <tr>\n",
       "      <th>1</th>\n",
       "      <td>Dental Problems</td>\n",
       "      <td>75</td>\n",
       "    </tr>\n",
       "    <tr>\n",
       "      <th>2</th>\n",
       "      <td>Skin allergies</td>\n",
       "      <td>72</td>\n",
       "    </tr>\n",
       "  </tbody>\n",
       "</table>\n",
       "</div>"
      ],
      "text/plain": [
       "           problem  problem_count\n",
       "0     Eye Problems             78\n",
       "1  Dental Problems             75\n",
       "2   Skin allergies             72"
      ]
     },
     "execution_count": 6,
     "metadata": {},
     "output_type": "execute_result"
    }
   ],
   "source": [
    "df1"
   ]
  },
  {
   "cell_type": "code",
   "execution_count": 7,
   "id": "06511a01",
   "metadata": {},
   "outputs": [
    {
     "data": {
      "application/vnd.microsoft.datawrangler.viewer.v0+json": {
       "columns": [
        {
         "name": "index",
         "rawType": "int64",
         "type": "integer"
        },
        {
         "name": "problem",
         "rawType": "object",
         "type": "string"
        },
        {
         "name": "ocorrencias",
         "rawType": "int64",
         "type": "integer"
        }
       ],
       "ref": "8ed6c06b-5189-45f9-9da2-78fda7db91cc",
       "rows": [
        [
         "0",
         "Hip Dysplasia",
         "7"
        ],
        [
         "1",
         "Cancer",
         "6"
        ],
        [
         "2",
         "Heart Conditions",
         "5"
        ],
        [
         "3",
         "Elbow Dysplasia",
         "2"
        ],
        [
         "4",
         "Skin allergies",
         "2"
        ],
        [
         "5",
         "Pancreatitis",
         "1"
        ],
        [
         "6",
         "Obesity",
         "1"
        ],
        [
         "7",
         "Respiratory Problems",
         "1"
        ],
        [
         "8",
         "Dental Problems",
         "1"
        ],
        [
         "9",
         "Eye Problems",
         "1"
        ]
       ],
       "shape": {
        "columns": 2,
        "rows": 10
       }
      },
      "text/html": [
       "<div>\n",
       "<style scoped>\n",
       "    .dataframe tbody tr th:only-of-type {\n",
       "        vertical-align: middle;\n",
       "    }\n",
       "\n",
       "    .dataframe tbody tr th {\n",
       "        vertical-align: top;\n",
       "    }\n",
       "\n",
       "    .dataframe thead th {\n",
       "        text-align: right;\n",
       "    }\n",
       "</style>\n",
       "<table border=\"1\" class=\"dataframe\">\n",
       "  <thead>\n",
       "    <tr style=\"text-align: right;\">\n",
       "      <th></th>\n",
       "      <th>problem</th>\n",
       "      <th>ocorrencias</th>\n",
       "    </tr>\n",
       "  </thead>\n",
       "  <tbody>\n",
       "    <tr>\n",
       "      <th>0</th>\n",
       "      <td>Hip Dysplasia</td>\n",
       "      <td>7</td>\n",
       "    </tr>\n",
       "    <tr>\n",
       "      <th>1</th>\n",
       "      <td>Cancer</td>\n",
       "      <td>6</td>\n",
       "    </tr>\n",
       "    <tr>\n",
       "      <th>2</th>\n",
       "      <td>Heart Conditions</td>\n",
       "      <td>5</td>\n",
       "    </tr>\n",
       "    <tr>\n",
       "      <th>3</th>\n",
       "      <td>Elbow Dysplasia</td>\n",
       "      <td>2</td>\n",
       "    </tr>\n",
       "    <tr>\n",
       "      <th>4</th>\n",
       "      <td>Skin allergies</td>\n",
       "      <td>2</td>\n",
       "    </tr>\n",
       "    <tr>\n",
       "      <th>5</th>\n",
       "      <td>Pancreatitis</td>\n",
       "      <td>1</td>\n",
       "    </tr>\n",
       "    <tr>\n",
       "      <th>6</th>\n",
       "      <td>Obesity</td>\n",
       "      <td>1</td>\n",
       "    </tr>\n",
       "    <tr>\n",
       "      <th>7</th>\n",
       "      <td>Respiratory Problems</td>\n",
       "      <td>1</td>\n",
       "    </tr>\n",
       "    <tr>\n",
       "      <th>8</th>\n",
       "      <td>Dental Problems</td>\n",
       "      <td>1</td>\n",
       "    </tr>\n",
       "    <tr>\n",
       "      <th>9</th>\n",
       "      <td>Eye Problems</td>\n",
       "      <td>1</td>\n",
       "    </tr>\n",
       "  </tbody>\n",
       "</table>\n",
       "</div>"
      ],
      "text/plain": [
       "                problem  ocorrencias\n",
       "0         Hip Dysplasia            7\n",
       "1                Cancer            6\n",
       "2      Heart Conditions            5\n",
       "3       Elbow Dysplasia            2\n",
       "4        Skin allergies            2\n",
       "5          Pancreatitis            1\n",
       "6               Obesity            1\n",
       "7  Respiratory Problems            1\n",
       "8       Dental Problems            1\n",
       "9          Eye Problems            1"
      ]
     },
     "execution_count": 7,
     "metadata": {},
     "output_type": "execute_result"
    }
   ],
   "source": [
    "df2"
   ]
  },
  {
   "cell_type": "code",
   "execution_count": 8,
   "id": "90583fec",
   "metadata": {},
   "outputs": [
    {
     "data": {
      "application/vnd.microsoft.datawrangler.viewer.v0+json": {
       "columns": [
        {
         "name": "index",
         "rawType": "int64",
         "type": "integer"
        },
        {
         "name": "country",
         "rawType": "object",
         "type": "string"
        },
        {
         "name": "breed_count",
         "rawType": "int64",
         "type": "integer"
        }
       ],
       "ref": "3cf80c36-1f16-494b-ac73-46047a0542e1",
       "rows": [
        [
         "0",
         "England",
         "21"
        ],
        [
         "1",
         "Germany",
         "13"
        ],
        [
         "2",
         "France",
         "9"
        ],
        [
         "3",
         "Scotland",
         "6"
        ],
        [
         "4",
         "China",
         "5"
        ],
        [
         "5",
         "Australia",
         "5"
        ],
        [
         "6",
         "Ireland",
         "5"
        ],
        [
         "7",
         "United States",
         "5"
        ],
        [
         "8",
         "Belgium",
         "4"
        ],
        [
         "9",
         "Wales",
         "4"
        ],
        [
         "10",
         "Russia",
         "3"
        ],
        [
         "11",
         "Japan",
         "3"
        ],
        [
         "12",
         "Canada",
         "2"
        ],
        [
         "13",
         "Mexico",
         "2"
        ],
        [
         "14",
         "Italy",
         "2"
        ],
        [
         "15",
         "Hungary",
         "2"
        ],
        [
         "16",
         "Malta",
         "2"
        ],
        [
         "17",
         "Switzerland",
         "1"
        ],
        [
         "18",
         "Rhodesia",
         "1"
        ],
        [
         "19",
         "Madagascar",
         "1"
        ],
        [
         "20",
         "Middle East",
         "1"
        ],
        [
         "21",
         "Finland",
         "1"
        ],
        [
         "22",
         "Netherlands",
         "1"
        ],
        [
         "23",
         "Tibet",
         "1"
        ],
        [
         "24",
         "Turkey",
         "1"
        ],
        [
         "25",
         "Africa",
         "1"
        ],
        [
         "26",
         "Congo",
         "1"
        ]
       ],
       "shape": {
        "columns": 2,
        "rows": 27
       }
      },
      "text/html": [
       "<div>\n",
       "<style scoped>\n",
       "    .dataframe tbody tr th:only-of-type {\n",
       "        vertical-align: middle;\n",
       "    }\n",
       "\n",
       "    .dataframe tbody tr th {\n",
       "        vertical-align: top;\n",
       "    }\n",
       "\n",
       "    .dataframe thead th {\n",
       "        text-align: right;\n",
       "    }\n",
       "</style>\n",
       "<table border=\"1\" class=\"dataframe\">\n",
       "  <thead>\n",
       "    <tr style=\"text-align: right;\">\n",
       "      <th></th>\n",
       "      <th>country</th>\n",
       "      <th>breed_count</th>\n",
       "    </tr>\n",
       "  </thead>\n",
       "  <tbody>\n",
       "    <tr>\n",
       "      <th>0</th>\n",
       "      <td>England</td>\n",
       "      <td>21</td>\n",
       "    </tr>\n",
       "    <tr>\n",
       "      <th>1</th>\n",
       "      <td>Germany</td>\n",
       "      <td>13</td>\n",
       "    </tr>\n",
       "    <tr>\n",
       "      <th>2</th>\n",
       "      <td>France</td>\n",
       "      <td>9</td>\n",
       "    </tr>\n",
       "    <tr>\n",
       "      <th>3</th>\n",
       "      <td>Scotland</td>\n",
       "      <td>6</td>\n",
       "    </tr>\n",
       "    <tr>\n",
       "      <th>4</th>\n",
       "      <td>China</td>\n",
       "      <td>5</td>\n",
       "    </tr>\n",
       "    <tr>\n",
       "      <th>5</th>\n",
       "      <td>Australia</td>\n",
       "      <td>5</td>\n",
       "    </tr>\n",
       "    <tr>\n",
       "      <th>6</th>\n",
       "      <td>Ireland</td>\n",
       "      <td>5</td>\n",
       "    </tr>\n",
       "    <tr>\n",
       "      <th>7</th>\n",
       "      <td>United States</td>\n",
       "      <td>5</td>\n",
       "    </tr>\n",
       "    <tr>\n",
       "      <th>8</th>\n",
       "      <td>Belgium</td>\n",
       "      <td>4</td>\n",
       "    </tr>\n",
       "    <tr>\n",
       "      <th>9</th>\n",
       "      <td>Wales</td>\n",
       "      <td>4</td>\n",
       "    </tr>\n",
       "    <tr>\n",
       "      <th>10</th>\n",
       "      <td>Russia</td>\n",
       "      <td>3</td>\n",
       "    </tr>\n",
       "    <tr>\n",
       "      <th>11</th>\n",
       "      <td>Japan</td>\n",
       "      <td>3</td>\n",
       "    </tr>\n",
       "    <tr>\n",
       "      <th>12</th>\n",
       "      <td>Canada</td>\n",
       "      <td>2</td>\n",
       "    </tr>\n",
       "    <tr>\n",
       "      <th>13</th>\n",
       "      <td>Mexico</td>\n",
       "      <td>2</td>\n",
       "    </tr>\n",
       "    <tr>\n",
       "      <th>14</th>\n",
       "      <td>Italy</td>\n",
       "      <td>2</td>\n",
       "    </tr>\n",
       "    <tr>\n",
       "      <th>15</th>\n",
       "      <td>Hungary</td>\n",
       "      <td>2</td>\n",
       "    </tr>\n",
       "    <tr>\n",
       "      <th>16</th>\n",
       "      <td>Malta</td>\n",
       "      <td>2</td>\n",
       "    </tr>\n",
       "    <tr>\n",
       "      <th>17</th>\n",
       "      <td>Switzerland</td>\n",
       "      <td>1</td>\n",
       "    </tr>\n",
       "    <tr>\n",
       "      <th>18</th>\n",
       "      <td>Rhodesia</td>\n",
       "      <td>1</td>\n",
       "    </tr>\n",
       "    <tr>\n",
       "      <th>19</th>\n",
       "      <td>Madagascar</td>\n",
       "      <td>1</td>\n",
       "    </tr>\n",
       "    <tr>\n",
       "      <th>20</th>\n",
       "      <td>Middle East</td>\n",
       "      <td>1</td>\n",
       "    </tr>\n",
       "    <tr>\n",
       "      <th>21</th>\n",
       "      <td>Finland</td>\n",
       "      <td>1</td>\n",
       "    </tr>\n",
       "    <tr>\n",
       "      <th>22</th>\n",
       "      <td>Netherlands</td>\n",
       "      <td>1</td>\n",
       "    </tr>\n",
       "    <tr>\n",
       "      <th>23</th>\n",
       "      <td>Tibet</td>\n",
       "      <td>1</td>\n",
       "    </tr>\n",
       "    <tr>\n",
       "      <th>24</th>\n",
       "      <td>Turkey</td>\n",
       "      <td>1</td>\n",
       "    </tr>\n",
       "    <tr>\n",
       "      <th>25</th>\n",
       "      <td>Africa</td>\n",
       "      <td>1</td>\n",
       "    </tr>\n",
       "    <tr>\n",
       "      <th>26</th>\n",
       "      <td>Congo</td>\n",
       "      <td>1</td>\n",
       "    </tr>\n",
       "  </tbody>\n",
       "</table>\n",
       "</div>"
      ],
      "text/plain": [
       "          country  breed_count\n",
       "0         England           21\n",
       "1         Germany           13\n",
       "2          France            9\n",
       "3        Scotland            6\n",
       "4           China            5\n",
       "5       Australia            5\n",
       "6         Ireland            5\n",
       "7   United States            5\n",
       "8         Belgium            4\n",
       "9           Wales            4\n",
       "10         Russia            3\n",
       "11          Japan            3\n",
       "12         Canada            2\n",
       "13         Mexico            2\n",
       "14          Italy            2\n",
       "15        Hungary            2\n",
       "16          Malta            2\n",
       "17    Switzerland            1\n",
       "18       Rhodesia            1\n",
       "19     Madagascar            1\n",
       "20    Middle East            1\n",
       "21        Finland            1\n",
       "22    Netherlands            1\n",
       "23          Tibet            1\n",
       "24         Turkey            1\n",
       "25         Africa            1\n",
       "26          Congo            1"
      ]
     },
     "execution_count": 8,
     "metadata": {},
     "output_type": "execute_result"
    }
   ],
   "source": [
    "df3"
   ]
  },
  {
   "cell_type": "code",
   "execution_count": 9,
   "id": "7af13d90",
   "metadata": {},
   "outputs": [
    {
     "data": {
      "application/vnd.microsoft.datawrangler.viewer.v0+json": {
       "columns": [
        {
         "name": "index",
         "rawType": "int64",
         "type": "integer"
        },
        {
         "name": "country",
         "rawType": "object",
         "type": "string"
        },
        {
         "name": "avg_longevity",
         "rawType": "float64",
         "type": "float"
        }
       ],
       "ref": "d8a4f6d1-3e75-4c02-8e0e-b8fc2cfce7e8",
       "rows": [
        [
         "0",
         "Mexico",
         "14.8"
        ],
        [
         "1",
         "Finland",
         "13.5"
        ],
        [
         "2",
         "Netherlands",
         "13.5"
        ],
        [
         "3",
         "Tibet",
         "13.5"
        ],
        [
         "4",
         "Africa",
         "13.5"
        ],
        [
         "5",
         "Congo",
         "13.5"
        ],
        [
         "6",
         "Australia",
         "13.4"
        ],
        [
         "7",
         "Wales",
         "13.3"
        ],
        [
         "8",
         "Malta",
         "13.3"
        ],
        [
         "9",
         "China",
         "13.1"
        ],
        [
         "10",
         "Belgium",
         "13.1"
        ],
        [
         "11",
         "Madagascar",
         "13.0"
        ],
        [
         "12",
         "Middle East",
         "13.0"
        ],
        [
         "13",
         "Turkey",
         "13.0"
        ],
        [
         "14",
         "France",
         "12.8"
        ],
        [
         "15",
         "Scotland",
         "12.7"
        ],
        [
         "16",
         "Japan",
         "12.7"
        ],
        [
         "17",
         "England",
         "12.5"
        ],
        [
         "18",
         "Russia",
         "12.5"
        ],
        [
         "19",
         "United States",
         "12.5"
        ],
        [
         "20",
         "Italy",
         "12.3"
        ],
        [
         "21",
         "Hungary",
         "12.0"
        ],
        [
         "22",
         "Ireland",
         "11.9"
        ],
        [
         "23",
         "Germany",
         "11.7"
        ],
        [
         "24",
         "Rhodesia",
         "11.0"
        ],
        [
         "25",
         "Canada",
         "10.5"
        ],
        [
         "26",
         "Switzerland",
         "9.0"
        ]
       ],
       "shape": {
        "columns": 2,
        "rows": 27
       }
      },
      "text/html": [
       "<div>\n",
       "<style scoped>\n",
       "    .dataframe tbody tr th:only-of-type {\n",
       "        vertical-align: middle;\n",
       "    }\n",
       "\n",
       "    .dataframe tbody tr th {\n",
       "        vertical-align: top;\n",
       "    }\n",
       "\n",
       "    .dataframe thead th {\n",
       "        text-align: right;\n",
       "    }\n",
       "</style>\n",
       "<table border=\"1\" class=\"dataframe\">\n",
       "  <thead>\n",
       "    <tr style=\"text-align: right;\">\n",
       "      <th></th>\n",
       "      <th>country</th>\n",
       "      <th>avg_longevity</th>\n",
       "    </tr>\n",
       "  </thead>\n",
       "  <tbody>\n",
       "    <tr>\n",
       "      <th>0</th>\n",
       "      <td>Mexico</td>\n",
       "      <td>14.8</td>\n",
       "    </tr>\n",
       "    <tr>\n",
       "      <th>1</th>\n",
       "      <td>Finland</td>\n",
       "      <td>13.5</td>\n",
       "    </tr>\n",
       "    <tr>\n",
       "      <th>2</th>\n",
       "      <td>Netherlands</td>\n",
       "      <td>13.5</td>\n",
       "    </tr>\n",
       "    <tr>\n",
       "      <th>3</th>\n",
       "      <td>Tibet</td>\n",
       "      <td>13.5</td>\n",
       "    </tr>\n",
       "    <tr>\n",
       "      <th>4</th>\n",
       "      <td>Africa</td>\n",
       "      <td>13.5</td>\n",
       "    </tr>\n",
       "    <tr>\n",
       "      <th>5</th>\n",
       "      <td>Congo</td>\n",
       "      <td>13.5</td>\n",
       "    </tr>\n",
       "    <tr>\n",
       "      <th>6</th>\n",
       "      <td>Australia</td>\n",
       "      <td>13.4</td>\n",
       "    </tr>\n",
       "    <tr>\n",
       "      <th>7</th>\n",
       "      <td>Wales</td>\n",
       "      <td>13.3</td>\n",
       "    </tr>\n",
       "    <tr>\n",
       "      <th>8</th>\n",
       "      <td>Malta</td>\n",
       "      <td>13.3</td>\n",
       "    </tr>\n",
       "    <tr>\n",
       "      <th>9</th>\n",
       "      <td>China</td>\n",
       "      <td>13.1</td>\n",
       "    </tr>\n",
       "    <tr>\n",
       "      <th>10</th>\n",
       "      <td>Belgium</td>\n",
       "      <td>13.1</td>\n",
       "    </tr>\n",
       "    <tr>\n",
       "      <th>11</th>\n",
       "      <td>Madagascar</td>\n",
       "      <td>13.0</td>\n",
       "    </tr>\n",
       "    <tr>\n",
       "      <th>12</th>\n",
       "      <td>Middle East</td>\n",
       "      <td>13.0</td>\n",
       "    </tr>\n",
       "    <tr>\n",
       "      <th>13</th>\n",
       "      <td>Turkey</td>\n",
       "      <td>13.0</td>\n",
       "    </tr>\n",
       "    <tr>\n",
       "      <th>14</th>\n",
       "      <td>France</td>\n",
       "      <td>12.8</td>\n",
       "    </tr>\n",
       "    <tr>\n",
       "      <th>15</th>\n",
       "      <td>Scotland</td>\n",
       "      <td>12.7</td>\n",
       "    </tr>\n",
       "    <tr>\n",
       "      <th>16</th>\n",
       "      <td>Japan</td>\n",
       "      <td>12.7</td>\n",
       "    </tr>\n",
       "    <tr>\n",
       "      <th>17</th>\n",
       "      <td>England</td>\n",
       "      <td>12.5</td>\n",
       "    </tr>\n",
       "    <tr>\n",
       "      <th>18</th>\n",
       "      <td>Russia</td>\n",
       "      <td>12.5</td>\n",
       "    </tr>\n",
       "    <tr>\n",
       "      <th>19</th>\n",
       "      <td>United States</td>\n",
       "      <td>12.5</td>\n",
       "    </tr>\n",
       "    <tr>\n",
       "      <th>20</th>\n",
       "      <td>Italy</td>\n",
       "      <td>12.3</td>\n",
       "    </tr>\n",
       "    <tr>\n",
       "      <th>21</th>\n",
       "      <td>Hungary</td>\n",
       "      <td>12.0</td>\n",
       "    </tr>\n",
       "    <tr>\n",
       "      <th>22</th>\n",
       "      <td>Ireland</td>\n",
       "      <td>11.9</td>\n",
       "    </tr>\n",
       "    <tr>\n",
       "      <th>23</th>\n",
       "      <td>Germany</td>\n",
       "      <td>11.7</td>\n",
       "    </tr>\n",
       "    <tr>\n",
       "      <th>24</th>\n",
       "      <td>Rhodesia</td>\n",
       "      <td>11.0</td>\n",
       "    </tr>\n",
       "    <tr>\n",
       "      <th>25</th>\n",
       "      <td>Canada</td>\n",
       "      <td>10.5</td>\n",
       "    </tr>\n",
       "    <tr>\n",
       "      <th>26</th>\n",
       "      <td>Switzerland</td>\n",
       "      <td>9.0</td>\n",
       "    </tr>\n",
       "  </tbody>\n",
       "</table>\n",
       "</div>"
      ],
      "text/plain": [
       "          country  avg_longevity\n",
       "0          Mexico           14.8\n",
       "1         Finland           13.5\n",
       "2     Netherlands           13.5\n",
       "3           Tibet           13.5\n",
       "4          Africa           13.5\n",
       "5           Congo           13.5\n",
       "6       Australia           13.4\n",
       "7           Wales           13.3\n",
       "8           Malta           13.3\n",
       "9           China           13.1\n",
       "10        Belgium           13.1\n",
       "11     Madagascar           13.0\n",
       "12    Middle East           13.0\n",
       "13         Turkey           13.0\n",
       "14         France           12.8\n",
       "15       Scotland           12.7\n",
       "16          Japan           12.7\n",
       "17        England           12.5\n",
       "18         Russia           12.5\n",
       "19  United States           12.5\n",
       "20          Italy           12.3\n",
       "21        Hungary           12.0\n",
       "22        Ireland           11.9\n",
       "23        Germany           11.7\n",
       "24       Rhodesia           11.0\n",
       "25         Canada           10.5\n",
       "26    Switzerland            9.0"
      ]
     },
     "execution_count": 9,
     "metadata": {},
     "output_type": "execute_result"
    }
   ],
   "source": [
    "df4"
   ]
  },
  {
   "cell_type": "code",
   "execution_count": 10,
   "id": "a0cfe6c0",
   "metadata": {},
   "outputs": [
    {
     "data": {
      "application/vnd.microsoft.datawrangler.viewer.v0+json": {
       "columns": [
        {
         "name": "index",
         "rawType": "int64",
         "type": "integer"
        },
        {
         "name": "breed_name",
         "rawType": "object",
         "type": "string"
        },
        {
         "name": "longevity",
         "rawType": "int64",
         "type": "integer"
        },
        {
         "name": "tipo",
         "rawType": "object",
         "type": "string"
        }
       ],
       "ref": "63533390-8d51-469f-8a81-403069c10e2f",
       "rows": [
        [
         "0",
         "Chihuahua",
         "20",
         "Maior Longevidade"
        ],
        [
         "1",
         "Chinese Crested",
         "18",
         "Maior Longevidade"
        ],
        [
         "2",
         "Pomeranian",
         "16",
         "Maior Longevidade"
        ],
        [
         "3",
         "Bulldog",
         "8",
         "Menor Longevidade"
        ],
        [
         "4",
         "German Shepherd",
         "7",
         "Menor Longevidade"
        ],
        [
         "5",
         "Irish Wolfhound",
         "6",
         "Menor Longevidade"
        ]
       ],
       "shape": {
        "columns": 3,
        "rows": 6
       }
      },
      "text/html": [
       "<div>\n",
       "<style scoped>\n",
       "    .dataframe tbody tr th:only-of-type {\n",
       "        vertical-align: middle;\n",
       "    }\n",
       "\n",
       "    .dataframe tbody tr th {\n",
       "        vertical-align: top;\n",
       "    }\n",
       "\n",
       "    .dataframe thead th {\n",
       "        text-align: right;\n",
       "    }\n",
       "</style>\n",
       "<table border=\"1\" class=\"dataframe\">\n",
       "  <thead>\n",
       "    <tr style=\"text-align: right;\">\n",
       "      <th></th>\n",
       "      <th>breed_name</th>\n",
       "      <th>longevity</th>\n",
       "      <th>tipo</th>\n",
       "    </tr>\n",
       "  </thead>\n",
       "  <tbody>\n",
       "    <tr>\n",
       "      <th>0</th>\n",
       "      <td>Chihuahua</td>\n",
       "      <td>20</td>\n",
       "      <td>Maior Longevidade</td>\n",
       "    </tr>\n",
       "    <tr>\n",
       "      <th>1</th>\n",
       "      <td>Chinese Crested</td>\n",
       "      <td>18</td>\n",
       "      <td>Maior Longevidade</td>\n",
       "    </tr>\n",
       "    <tr>\n",
       "      <th>2</th>\n",
       "      <td>Pomeranian</td>\n",
       "      <td>16</td>\n",
       "      <td>Maior Longevidade</td>\n",
       "    </tr>\n",
       "    <tr>\n",
       "      <th>3</th>\n",
       "      <td>Bulldog</td>\n",
       "      <td>8</td>\n",
       "      <td>Menor Longevidade</td>\n",
       "    </tr>\n",
       "    <tr>\n",
       "      <th>4</th>\n",
       "      <td>German Shepherd</td>\n",
       "      <td>7</td>\n",
       "      <td>Menor Longevidade</td>\n",
       "    </tr>\n",
       "    <tr>\n",
       "      <th>5</th>\n",
       "      <td>Irish Wolfhound</td>\n",
       "      <td>6</td>\n",
       "      <td>Menor Longevidade</td>\n",
       "    </tr>\n",
       "  </tbody>\n",
       "</table>\n",
       "</div>"
      ],
      "text/plain": [
       "        breed_name  longevity               tipo\n",
       "0        Chihuahua         20  Maior Longevidade\n",
       "1  Chinese Crested         18  Maior Longevidade\n",
       "2       Pomeranian         16  Maior Longevidade\n",
       "3          Bulldog          8  Menor Longevidade\n",
       "4  German Shepherd          7  Menor Longevidade\n",
       "5  Irish Wolfhound          6  Menor Longevidade"
      ]
     },
     "execution_count": 10,
     "metadata": {},
     "output_type": "execute_result"
    }
   ],
   "source": [
    "df5"
   ]
  },
  {
   "cell_type": "code",
   "execution_count": 11,
   "id": "67758ea4",
   "metadata": {},
   "outputs": [
    {
     "data": {
      "application/vnd.microsoft.datawrangler.viewer.v0+json": {
       "columns": [
        {
         "name": "index",
         "rawType": "int64",
         "type": "integer"
        },
        {
         "name": "eye_color",
         "rawType": "object",
         "type": "string"
        },
        {
         "name": "color_count",
         "rawType": "int64",
         "type": "integer"
        }
       ],
       "ref": "55e6a9e8-9640-4d79-b443-fdecd34e1418",
       "rows": [
        [
         "0",
         "Brown",
         "101"
        ],
        [
         "1",
         "Blue",
         "9"
        ],
        [
         "2",
         "Grey",
         "1"
        ]
       ],
       "shape": {
        "columns": 2,
        "rows": 3
       }
      },
      "text/html": [
       "<div>\n",
       "<style scoped>\n",
       "    .dataframe tbody tr th:only-of-type {\n",
       "        vertical-align: middle;\n",
       "    }\n",
       "\n",
       "    .dataframe tbody tr th {\n",
       "        vertical-align: top;\n",
       "    }\n",
       "\n",
       "    .dataframe thead th {\n",
       "        text-align: right;\n",
       "    }\n",
       "</style>\n",
       "<table border=\"1\" class=\"dataframe\">\n",
       "  <thead>\n",
       "    <tr style=\"text-align: right;\">\n",
       "      <th></th>\n",
       "      <th>eye_color</th>\n",
       "      <th>color_count</th>\n",
       "    </tr>\n",
       "  </thead>\n",
       "  <tbody>\n",
       "    <tr>\n",
       "      <th>0</th>\n",
       "      <td>Brown</td>\n",
       "      <td>101</td>\n",
       "    </tr>\n",
       "    <tr>\n",
       "      <th>1</th>\n",
       "      <td>Blue</td>\n",
       "      <td>9</td>\n",
       "    </tr>\n",
       "    <tr>\n",
       "      <th>2</th>\n",
       "      <td>Grey</td>\n",
       "      <td>1</td>\n",
       "    </tr>\n",
       "  </tbody>\n",
       "</table>\n",
       "</div>"
      ],
      "text/plain": [
       "  eye_color  color_count\n",
       "0     Brown          101\n",
       "1      Blue            9\n",
       "2      Grey            1"
      ]
     },
     "execution_count": 11,
     "metadata": {},
     "output_type": "execute_result"
    }
   ],
   "source": [
    "df6"
   ]
  },
  {
   "cell_type": "code",
   "execution_count": 12,
   "id": "b7c8912f",
   "metadata": {},
   "outputs": [
    {
     "data": {
      "application/vnd.microsoft.datawrangler.viewer.v0+json": {
       "columns": [
        {
         "name": "index",
         "rawType": "int64",
         "type": "integer"
        },
        {
         "name": "fur_color",
         "rawType": "object",
         "type": "string"
        },
        {
         "name": "fur_color_count",
         "rawType": "int64",
         "type": "integer"
        }
       ],
       "ref": "701e5508-6155-4a7c-9c67-e9a2d28ca622",
       "rows": [
        [
         "0",
         "Black",
         "55"
        ]
       ],
       "shape": {
        "columns": 2,
        "rows": 1
       }
      },
      "text/html": [
       "<div>\n",
       "<style scoped>\n",
       "    .dataframe tbody tr th:only-of-type {\n",
       "        vertical-align: middle;\n",
       "    }\n",
       "\n",
       "    .dataframe tbody tr th {\n",
       "        vertical-align: top;\n",
       "    }\n",
       "\n",
       "    .dataframe thead th {\n",
       "        text-align: right;\n",
       "    }\n",
       "</style>\n",
       "<table border=\"1\" class=\"dataframe\">\n",
       "  <thead>\n",
       "    <tr style=\"text-align: right;\">\n",
       "      <th></th>\n",
       "      <th>fur_color</th>\n",
       "      <th>fur_color_count</th>\n",
       "    </tr>\n",
       "  </thead>\n",
       "  <tbody>\n",
       "    <tr>\n",
       "      <th>0</th>\n",
       "      <td>Black</td>\n",
       "      <td>55</td>\n",
       "    </tr>\n",
       "  </tbody>\n",
       "</table>\n",
       "</div>"
      ],
      "text/plain": [
       "  fur_color  fur_color_count\n",
       "0     Black               55"
      ]
     },
     "execution_count": 12,
     "metadata": {},
     "output_type": "execute_result"
    }
   ],
   "source": [
    "df7"
   ]
  },
  {
   "cell_type": "code",
   "execution_count": 13,
   "id": "dec5cc63",
   "metadata": {},
   "outputs": [
    {
     "data": {
      "application/vnd.microsoft.datawrangler.viewer.v0+json": {
       "columns": [
        {
         "name": "index",
         "rawType": "int64",
         "type": "integer"
        },
        {
         "name": "fur_color",
         "rawType": "object",
         "type": "string"
        },
        {
         "name": "breed_name",
         "rawType": "object",
         "type": "string"
        }
       ],
       "ref": "9073e5b5-37ad-470f-b79d-02248af7dafa",
       "rows": [
        [
         "0",
         "Black & White",
         "Basenji"
        ],
        [
         "1",
         "Blenheim",
         "English Toy Spaniel"
        ],
        [
         "2",
         "Blue & Tan",
         "Yorkshire Terrier"
        ],
        [
         "3",
         "Blue Merle",
         "Australian Shepherd"
        ],
        [
         "4",
         "Chocolate",
         "Labrador Retriever"
        ],
        [
         "5",
         "Harlequin",
         "Great Dane"
        ],
        [
         "6",
         "Lemon",
         "Beagle"
        ],
        [
         "7",
         "Light Wheaten",
         "Rhodesian Ridgeback"
        ],
        [
         "8",
         "Mahogany",
         "Belgian Malinois"
        ],
        [
         "9",
         "Merle",
         "Catahoula Leopard Dog"
        ],
        [
         "10",
         "Orange",
         "Pomeranian"
        ],
        [
         "11",
         "Pink",
         "Chinese Crested"
        ],
        [
         "12",
         "Silver",
         "Weimaraner"
        ],
        [
         "13",
         "Stag Red",
         "Miniature Pinscher"
        ],
        [
         "14",
         "Yellow",
         "Labrador Retriever"
        ]
       ],
       "shape": {
        "columns": 2,
        "rows": 15
       }
      },
      "text/html": [
       "<div>\n",
       "<style scoped>\n",
       "    .dataframe tbody tr th:only-of-type {\n",
       "        vertical-align: middle;\n",
       "    }\n",
       "\n",
       "    .dataframe tbody tr th {\n",
       "        vertical-align: top;\n",
       "    }\n",
       "\n",
       "    .dataframe thead th {\n",
       "        text-align: right;\n",
       "    }\n",
       "</style>\n",
       "<table border=\"1\" class=\"dataframe\">\n",
       "  <thead>\n",
       "    <tr style=\"text-align: right;\">\n",
       "      <th></th>\n",
       "      <th>fur_color</th>\n",
       "      <th>breed_name</th>\n",
       "    </tr>\n",
       "  </thead>\n",
       "  <tbody>\n",
       "    <tr>\n",
       "      <th>0</th>\n",
       "      <td>Black &amp; White</td>\n",
       "      <td>Basenji</td>\n",
       "    </tr>\n",
       "    <tr>\n",
       "      <th>1</th>\n",
       "      <td>Blenheim</td>\n",
       "      <td>English Toy Spaniel</td>\n",
       "    </tr>\n",
       "    <tr>\n",
       "      <th>2</th>\n",
       "      <td>Blue &amp; Tan</td>\n",
       "      <td>Yorkshire Terrier</td>\n",
       "    </tr>\n",
       "    <tr>\n",
       "      <th>3</th>\n",
       "      <td>Blue Merle</td>\n",
       "      <td>Australian Shepherd</td>\n",
       "    </tr>\n",
       "    <tr>\n",
       "      <th>4</th>\n",
       "      <td>Chocolate</td>\n",
       "      <td>Labrador Retriever</td>\n",
       "    </tr>\n",
       "    <tr>\n",
       "      <th>5</th>\n",
       "      <td>Harlequin</td>\n",
       "      <td>Great Dane</td>\n",
       "    </tr>\n",
       "    <tr>\n",
       "      <th>6</th>\n",
       "      <td>Lemon</td>\n",
       "      <td>Beagle</td>\n",
       "    </tr>\n",
       "    <tr>\n",
       "      <th>7</th>\n",
       "      <td>Light Wheaten</td>\n",
       "      <td>Rhodesian Ridgeback</td>\n",
       "    </tr>\n",
       "    <tr>\n",
       "      <th>8</th>\n",
       "      <td>Mahogany</td>\n",
       "      <td>Belgian Malinois</td>\n",
       "    </tr>\n",
       "    <tr>\n",
       "      <th>9</th>\n",
       "      <td>Merle</td>\n",
       "      <td>Catahoula Leopard Dog</td>\n",
       "    </tr>\n",
       "    <tr>\n",
       "      <th>10</th>\n",
       "      <td>Orange</td>\n",
       "      <td>Pomeranian</td>\n",
       "    </tr>\n",
       "    <tr>\n",
       "      <th>11</th>\n",
       "      <td>Pink</td>\n",
       "      <td>Chinese Crested</td>\n",
       "    </tr>\n",
       "    <tr>\n",
       "      <th>12</th>\n",
       "      <td>Silver</td>\n",
       "      <td>Weimaraner</td>\n",
       "    </tr>\n",
       "    <tr>\n",
       "      <th>13</th>\n",
       "      <td>Stag Red</td>\n",
       "      <td>Miniature Pinscher</td>\n",
       "    </tr>\n",
       "    <tr>\n",
       "      <th>14</th>\n",
       "      <td>Yellow</td>\n",
       "      <td>Labrador Retriever</td>\n",
       "    </tr>\n",
       "  </tbody>\n",
       "</table>\n",
       "</div>"
      ],
      "text/plain": [
       "        fur_color             breed_name\n",
       "0   Black & White                Basenji\n",
       "1        Blenheim    English Toy Spaniel\n",
       "2      Blue & Tan      Yorkshire Terrier\n",
       "3      Blue Merle    Australian Shepherd\n",
       "4       Chocolate     Labrador Retriever\n",
       "5       Harlequin             Great Dane\n",
       "6           Lemon                 Beagle\n",
       "7   Light Wheaten    Rhodesian Ridgeback\n",
       "8        Mahogany       Belgian Malinois\n",
       "9           Merle  Catahoula Leopard Dog\n",
       "10         Orange             Pomeranian\n",
       "11           Pink        Chinese Crested\n",
       "12         Silver             Weimaraner\n",
       "13       Stag Red     Miniature Pinscher\n",
       "14         Yellow     Labrador Retriever"
      ]
     },
     "execution_count": 13,
     "metadata": {},
     "output_type": "execute_result"
    }
   ],
   "source": [
    "df7_1"
   ]
  },
  {
   "cell_type": "code",
   "execution_count": 14,
   "id": "fe6df50d",
   "metadata": {},
   "outputs": [
    {
     "data": {
      "application/vnd.microsoft.datawrangler.viewer.v0+json": {
       "columns": [
        {
         "name": "index",
         "rawType": "int64",
         "type": "integer"
        },
        {
         "name": "trait",
         "rawType": "object",
         "type": "string"
        },
        {
         "name": "trait_count",
         "rawType": "int64",
         "type": "integer"
        }
       ],
       "ref": "a119f502-8520-482b-8b68-f22d39fef6cc",
       "rows": [
        [
         "0",
         "Energetic",
         "6"
        ],
        [
         "1",
         "Good-Natured",
         "6"
        ],
        [
         "2",
         "Intelligent",
         "5"
        ],
        [
         "3",
         "Playful",
         "5"
        ],
        [
         "4",
         "Affectionate",
         "3"
        ]
       ],
       "shape": {
        "columns": 2,
        "rows": 5
       }
      },
      "text/html": [
       "<div>\n",
       "<style scoped>\n",
       "    .dataframe tbody tr th:only-of-type {\n",
       "        vertical-align: middle;\n",
       "    }\n",
       "\n",
       "    .dataframe tbody tr th {\n",
       "        vertical-align: top;\n",
       "    }\n",
       "\n",
       "    .dataframe thead th {\n",
       "        text-align: right;\n",
       "    }\n",
       "</style>\n",
       "<table border=\"1\" class=\"dataframe\">\n",
       "  <thead>\n",
       "    <tr style=\"text-align: right;\">\n",
       "      <th></th>\n",
       "      <th>trait</th>\n",
       "      <th>trait_count</th>\n",
       "    </tr>\n",
       "  </thead>\n",
       "  <tbody>\n",
       "    <tr>\n",
       "      <th>0</th>\n",
       "      <td>Energetic</td>\n",
       "      <td>6</td>\n",
       "    </tr>\n",
       "    <tr>\n",
       "      <th>1</th>\n",
       "      <td>Good-Natured</td>\n",
       "      <td>6</td>\n",
       "    </tr>\n",
       "    <tr>\n",
       "      <th>2</th>\n",
       "      <td>Intelligent</td>\n",
       "      <td>5</td>\n",
       "    </tr>\n",
       "    <tr>\n",
       "      <th>3</th>\n",
       "      <td>Playful</td>\n",
       "      <td>5</td>\n",
       "    </tr>\n",
       "    <tr>\n",
       "      <th>4</th>\n",
       "      <td>Affectionate</td>\n",
       "      <td>3</td>\n",
       "    </tr>\n",
       "  </tbody>\n",
       "</table>\n",
       "</div>"
      ],
      "text/plain": [
       "          trait  trait_count\n",
       "0     Energetic            6\n",
       "1  Good-Natured            6\n",
       "2   Intelligent            5\n",
       "3       Playful            5\n",
       "4  Affectionate            3"
      ]
     },
     "execution_count": 14,
     "metadata": {},
     "output_type": "execute_result"
    }
   ],
   "source": [
    "df8"
   ]
  },
  {
   "cell_type": "code",
   "execution_count": 15,
   "id": "86056f70",
   "metadata": {},
   "outputs": [
    {
     "data": {
      "application/vnd.microsoft.datawrangler.viewer.v0+json": {
       "columns": [
        {
         "name": "index",
         "rawType": "int64",
         "type": "integer"
        },
        {
         "name": "breed_name",
         "rawType": "object",
         "type": "string"
        },
        {
         "name": "color_count",
         "rawType": "int64",
         "type": "integer"
        },
        {
         "name": "trait_count",
         "rawType": "int64",
         "type": "integer"
        }
       ],
       "ref": "6e947ba4-5954-4704-96e8-2c4f5d99c162",
       "rows": [
        [
         "0",
         "Poodle",
         "4",
         "4"
        ],
        [
         "1",
         "Chihuahua",
         "4",
         "4"
        ],
        [
         "2",
         "Basset Hound",
         "4",
         "6"
        ],
        [
         "3",
         "Great Dane",
         "4",
         "4"
        ],
        [
         "4",
         "Greyhound",
         "4",
         "6"
        ],
        [
         "5",
         "English Setter",
         "4",
         "5"
        ],
        [
         "6",
         "Papillon",
         "4",
         "4"
        ],
        [
         "7",
         "Toy Poodle",
         "4",
         "4"
        ],
        [
         "8",
         "Miniature Poodle",
         "4",
         "4"
        ],
        [
         "9",
         "Standard Poodle",
         "4",
         "4"
        ],
        [
         "10",
         "Beagle",
         "4",
         "4"
        ]
       ],
       "shape": {
        "columns": 3,
        "rows": 11
       }
      },
      "text/html": [
       "<div>\n",
       "<style scoped>\n",
       "    .dataframe tbody tr th:only-of-type {\n",
       "        vertical-align: middle;\n",
       "    }\n",
       "\n",
       "    .dataframe tbody tr th {\n",
       "        vertical-align: top;\n",
       "    }\n",
       "\n",
       "    .dataframe thead th {\n",
       "        text-align: right;\n",
       "    }\n",
       "</style>\n",
       "<table border=\"1\" class=\"dataframe\">\n",
       "  <thead>\n",
       "    <tr style=\"text-align: right;\">\n",
       "      <th></th>\n",
       "      <th>breed_name</th>\n",
       "      <th>color_count</th>\n",
       "      <th>trait_count</th>\n",
       "    </tr>\n",
       "  </thead>\n",
       "  <tbody>\n",
       "    <tr>\n",
       "      <th>0</th>\n",
       "      <td>Poodle</td>\n",
       "      <td>4</td>\n",
       "      <td>4</td>\n",
       "    </tr>\n",
       "    <tr>\n",
       "      <th>1</th>\n",
       "      <td>Chihuahua</td>\n",
       "      <td>4</td>\n",
       "      <td>4</td>\n",
       "    </tr>\n",
       "    <tr>\n",
       "      <th>2</th>\n",
       "      <td>Basset Hound</td>\n",
       "      <td>4</td>\n",
       "      <td>6</td>\n",
       "    </tr>\n",
       "    <tr>\n",
       "      <th>3</th>\n",
       "      <td>Great Dane</td>\n",
       "      <td>4</td>\n",
       "      <td>4</td>\n",
       "    </tr>\n",
       "    <tr>\n",
       "      <th>4</th>\n",
       "      <td>Greyhound</td>\n",
       "      <td>4</td>\n",
       "      <td>6</td>\n",
       "    </tr>\n",
       "    <tr>\n",
       "      <th>5</th>\n",
       "      <td>English Setter</td>\n",
       "      <td>4</td>\n",
       "      <td>5</td>\n",
       "    </tr>\n",
       "    <tr>\n",
       "      <th>6</th>\n",
       "      <td>Papillon</td>\n",
       "      <td>4</td>\n",
       "      <td>4</td>\n",
       "    </tr>\n",
       "    <tr>\n",
       "      <th>7</th>\n",
       "      <td>Toy Poodle</td>\n",
       "      <td>4</td>\n",
       "      <td>4</td>\n",
       "    </tr>\n",
       "    <tr>\n",
       "      <th>8</th>\n",
       "      <td>Miniature Poodle</td>\n",
       "      <td>4</td>\n",
       "      <td>4</td>\n",
       "    </tr>\n",
       "    <tr>\n",
       "      <th>9</th>\n",
       "      <td>Standard Poodle</td>\n",
       "      <td>4</td>\n",
       "      <td>4</td>\n",
       "    </tr>\n",
       "    <tr>\n",
       "      <th>10</th>\n",
       "      <td>Beagle</td>\n",
       "      <td>4</td>\n",
       "      <td>4</td>\n",
       "    </tr>\n",
       "  </tbody>\n",
       "</table>\n",
       "</div>"
      ],
      "text/plain": [
       "          breed_name  color_count  trait_count\n",
       "0             Poodle            4            4\n",
       "1          Chihuahua            4            4\n",
       "2       Basset Hound            4            6\n",
       "3         Great Dane            4            4\n",
       "4          Greyhound            4            6\n",
       "5     English Setter            4            5\n",
       "6           Papillon            4            4\n",
       "7         Toy Poodle            4            4\n",
       "8   Miniature Poodle            4            4\n",
       "9    Standard Poodle            4            4\n",
       "10            Beagle            4            4"
      ]
     },
     "execution_count": 15,
     "metadata": {},
     "output_type": "execute_result"
    }
   ],
   "source": [
    "df9"
   ]
  },
  {
   "cell_type": "code",
   "execution_count": 16,
   "id": "0db6377d",
   "metadata": {},
   "outputs": [
    {
     "data": {
      "application/vnd.microsoft.datawrangler.viewer.v0+json": {
       "columns": [
        {
         "name": "index",
         "rawType": "int64",
         "type": "integer"
        },
        {
         "name": "trait_signature",
         "rawType": "object",
         "type": "string"
        },
        {
         "name": "problem_signature",
         "rawType": "object",
         "type": "string"
        },
        {
         "name": "breeds_with_same_profile",
         "rawType": "object",
         "type": "string"
        },
        {
         "name": "total_raças",
         "rawType": "int64",
         "type": "integer"
        }
       ],
       "ref": "a6a66864-e1c1-4223-acf9-9db8595bfd9b",
       "rows": [
        [
         "0",
         "Energetic, Good-Natured, Intelligent, Playful",
         "Dental Problems, Eye Problems, Skin allergies",
         "Affenpinscher, Basenji, Border Collie, Cairn Terrier, Cardigan Welsh Corgi, Chesapeake Bay Retriever, English Springer Spaniel, Field Spaniel, Finnish Spitz, Flat-Coated Retriever, Harrier, Irish Terrier, Irish Water Spaniel, Italian Greyhound, Jack Russell Terrier, Japanese Chin, Keeshond, Kerry Blue Terrier, Lhasa Apso, Maltese, Miniature Pinscher, Miniature Shiba Inu, Samoyed, Shetland Sheepdog, Staffordshire Bull Terrier, Vizsla, Welsh Corgi, Welsh Springer Spaniel, Welsh Terrier, Wirehaired Pointing Griffon, Xoloitzcuintli, Yorkshire Terrier",
         "32"
        ],
        [
         "1",
         "Energetic, Good-Natured, Intelligent, Loyal",
         "Dental Problems, Eye Problems, Skin allergies",
         "Africanis, Akita, American Bulldog, Anatolian Shepherd, Australian Kelpie, Australian Stumpy Tail Cattle Dog, Belgian Tervuren, Bloodhound, Bull Terrier, Cane Corso, Catahoula Leopard Dog, Giant Schnauzer, Kuvasz, Pharaoh Hound, Saluki, Whippet",
         "16"
        ],
        [
         "2",
         "Active, Affectionate, Hypoallergenic, Intelligent",
         "Bladder Stones, Epilepsy, Hip Dysplasia",
         "Miniature Poodle, Poodle, Standard Poodle, Toy Poodle",
         "4"
        ],
        [
         "3",
         "Energetic, Good-Natured, Intelligent, Playful",
         "Dental Problems, Hip Dysplasia, Skin allergies",
         "American Eskimo Dog, Border Terrier, Coton de Tulear, English Toy Spaniel",
         "4"
        ],
        [
         "4",
         "Affectionate, Energetic, Good-Natured, Intelligent, Playful",
         "Cancer, Dental Problems, Eye Problems, Hip Dysplasia, Skin allergies",
         "English Setter, Gordon Setter, Irish Setter",
         "3"
        ],
        [
         "5",
         "Energetic, Good-Natured, Intelligent, Playful",
         "Dental Problems, Diabetes, Pancreatitis",
         "Miniature Schnauzer, Standard Schnauzer",
         "2"
        ],
        [
         "6",
         "Energetic, Good-Natured, Intelligent, Playful",
         "Dental Problems, Eye Problems, Hip Dysplasia, Skin allergies",
         "Australian Terrier, West Highland White Terrier",
         "2"
        ],
        [
         "7",
         "Gentle, Good-Natured, Intelligent, Loyal",
         "Cancer, Heart Conditions, Hip Dysplasia",
         "Great Dane, Newfoundland",
         "2"
        ]
       ],
       "shape": {
        "columns": 4,
        "rows": 8
       }
      },
      "text/html": [
       "<div>\n",
       "<style scoped>\n",
       "    .dataframe tbody tr th:only-of-type {\n",
       "        vertical-align: middle;\n",
       "    }\n",
       "\n",
       "    .dataframe tbody tr th {\n",
       "        vertical-align: top;\n",
       "    }\n",
       "\n",
       "    .dataframe thead th {\n",
       "        text-align: right;\n",
       "    }\n",
       "</style>\n",
       "<table border=\"1\" class=\"dataframe\">\n",
       "  <thead>\n",
       "    <tr style=\"text-align: right;\">\n",
       "      <th></th>\n",
       "      <th>trait_signature</th>\n",
       "      <th>problem_signature</th>\n",
       "      <th>breeds_with_same_profile</th>\n",
       "      <th>total_raças</th>\n",
       "    </tr>\n",
       "  </thead>\n",
       "  <tbody>\n",
       "    <tr>\n",
       "      <th>0</th>\n",
       "      <td>Energetic, Good-Natured, Intelligent, Playful</td>\n",
       "      <td>Dental Problems, Eye Problems, Skin allergies</td>\n",
       "      <td>Affenpinscher, Basenji, Border Collie, Cairn T...</td>\n",
       "      <td>32</td>\n",
       "    </tr>\n",
       "    <tr>\n",
       "      <th>1</th>\n",
       "      <td>Energetic, Good-Natured, Intelligent, Loyal</td>\n",
       "      <td>Dental Problems, Eye Problems, Skin allergies</td>\n",
       "      <td>Africanis, Akita, American Bulldog, Anatolian ...</td>\n",
       "      <td>16</td>\n",
       "    </tr>\n",
       "    <tr>\n",
       "      <th>2</th>\n",
       "      <td>Active, Affectionate, Hypoallergenic, Intelligent</td>\n",
       "      <td>Bladder Stones, Epilepsy, Hip Dysplasia</td>\n",
       "      <td>Miniature Poodle, Poodle, Standard Poodle, Toy...</td>\n",
       "      <td>4</td>\n",
       "    </tr>\n",
       "    <tr>\n",
       "      <th>3</th>\n",
       "      <td>Energetic, Good-Natured, Intelligent, Playful</td>\n",
       "      <td>Dental Problems, Hip Dysplasia, Skin allergies</td>\n",
       "      <td>American Eskimo Dog, Border Terrier, Coton de ...</td>\n",
       "      <td>4</td>\n",
       "    </tr>\n",
       "    <tr>\n",
       "      <th>4</th>\n",
       "      <td>Affectionate, Energetic, Good-Natured, Intelli...</td>\n",
       "      <td>Cancer, Dental Problems, Eye Problems, Hip Dys...</td>\n",
       "      <td>English Setter, Gordon Setter, Irish Setter</td>\n",
       "      <td>3</td>\n",
       "    </tr>\n",
       "    <tr>\n",
       "      <th>5</th>\n",
       "      <td>Energetic, Good-Natured, Intelligent, Playful</td>\n",
       "      <td>Dental Problems, Diabetes, Pancreatitis</td>\n",
       "      <td>Miniature Schnauzer, Standard Schnauzer</td>\n",
       "      <td>2</td>\n",
       "    </tr>\n",
       "    <tr>\n",
       "      <th>6</th>\n",
       "      <td>Energetic, Good-Natured, Intelligent, Playful</td>\n",
       "      <td>Dental Problems, Eye Problems, Hip Dysplasia, ...</td>\n",
       "      <td>Australian Terrier, West Highland White Terrier</td>\n",
       "      <td>2</td>\n",
       "    </tr>\n",
       "    <tr>\n",
       "      <th>7</th>\n",
       "      <td>Gentle, Good-Natured, Intelligent, Loyal</td>\n",
       "      <td>Cancer, Heart Conditions, Hip Dysplasia</td>\n",
       "      <td>Great Dane, Newfoundland</td>\n",
       "      <td>2</td>\n",
       "    </tr>\n",
       "  </tbody>\n",
       "</table>\n",
       "</div>"
      ],
      "text/plain": [
       "                                     trait_signature  \\\n",
       "0      Energetic, Good-Natured, Intelligent, Playful   \n",
       "1        Energetic, Good-Natured, Intelligent, Loyal   \n",
       "2  Active, Affectionate, Hypoallergenic, Intelligent   \n",
       "3      Energetic, Good-Natured, Intelligent, Playful   \n",
       "4  Affectionate, Energetic, Good-Natured, Intelli...   \n",
       "5      Energetic, Good-Natured, Intelligent, Playful   \n",
       "6      Energetic, Good-Natured, Intelligent, Playful   \n",
       "7           Gentle, Good-Natured, Intelligent, Loyal   \n",
       "\n",
       "                                   problem_signature  \\\n",
       "0      Dental Problems, Eye Problems, Skin allergies   \n",
       "1      Dental Problems, Eye Problems, Skin allergies   \n",
       "2            Bladder Stones, Epilepsy, Hip Dysplasia   \n",
       "3     Dental Problems, Hip Dysplasia, Skin allergies   \n",
       "4  Cancer, Dental Problems, Eye Problems, Hip Dys...   \n",
       "5            Dental Problems, Diabetes, Pancreatitis   \n",
       "6  Dental Problems, Eye Problems, Hip Dysplasia, ...   \n",
       "7            Cancer, Heart Conditions, Hip Dysplasia   \n",
       "\n",
       "                            breeds_with_same_profile  total_raças  \n",
       "0  Affenpinscher, Basenji, Border Collie, Cairn T...           32  \n",
       "1  Africanis, Akita, American Bulldog, Anatolian ...           16  \n",
       "2  Miniature Poodle, Poodle, Standard Poodle, Toy...            4  \n",
       "3  American Eskimo Dog, Border Terrier, Coton de ...            4  \n",
       "4        English Setter, Gordon Setter, Irish Setter            3  \n",
       "5            Miniature Schnauzer, Standard Schnauzer            2  \n",
       "6    Australian Terrier, West Highland White Terrier            2  \n",
       "7                           Great Dane, Newfoundland            2  "
      ]
     },
     "execution_count": 16,
     "metadata": {},
     "output_type": "execute_result"
    }
   ],
   "source": [
    "df10"
   ]
  }
 ],
 "metadata": {
  "kernelspec": {
   "display_name": "base",
   "language": "python",
   "name": "python3"
  },
  "language_info": {
   "codemirror_mode": {
    "name": "ipython",
    "version": 3
   },
   "file_extension": ".py",
   "mimetype": "text/x-python",
   "name": "python",
   "nbconvert_exporter": "python",
   "pygments_lexer": "ipython3",
   "version": "3.11.7"
  }
 },
 "nbformat": 4,
 "nbformat_minor": 5
}
