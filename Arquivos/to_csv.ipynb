{
 "cells": [
  {
   "cell_type": "markdown",
   "id": "78004a01",
   "metadata": {},
   "source": [
    "# Query ➡️ CSV \n",
    "\n",
    "#### **Este arquivo serviu para transformar os resultados das consultas em arquivos csv.**"
   ]
  },
  {
   "cell_type": "code",
   "execution_count": 61,
   "id": "26297af5",
   "metadata": {},
   "outputs": [],
   "source": [
    "# Importando bibliotecas.\n",
    "import pandas as pd\n",
    "import pymysql"
   ]
  },
  {
   "cell_type": "code",
   "execution_count": null,
   "id": "67b91bc8",
   "metadata": {},
   "outputs": [],
   "source": [
    "# Conectando ao banco de dados.\n",
    "conexao = pymysql.connect(\n",
    "        host='localhost',\n",
    "        user='root',\n",
    "        password='password',\n",
    "        database='projeto_sql',\n",
    "        charset='utf8mb4',\n",
    "        cursorclass=pymysql.cursors.DictCursor\n",
    "    )\n",
    "cursor = conexao.cursor()"
   ]
  },
  {
   "cell_type": "code",
   "execution_count": 63,
   "id": "f24c103a",
   "metadata": {},
   "outputs": [],
   "source": [
    "# Colando a consulta SQL.\n",
    "query = \"\"\"\n",
    "WITH rare_fur_colors AS(\n",
    "    SELECT fcs.fur_color_id, fcs.fur_color\n",
    "    FROM fur_colors fcs\n",
    "    JOIN breed_fur_color bfd ON bfd.fur_color_id = fcs.fur_color_id\n",
    "    GROUP BY fcs.fur_color_id, fcs.fur_color\n",
    "    HAVING COUNT(*) = 1\n",
    ")\n",
    "SELECT rfc.fur_color, b.breed_name\n",
    "FROM rare_fur_colors rfc\n",
    "JOIN breed_fur_color bfd ON bfd.fur_color_id = rfc.fur_color_id\n",
    "JOIN breeds b ON b.breed_id = bfd.breed_id\n",
    "ORDER BY rfc.fur_color;\n",
    "\"\"\"\n",
    "cursor.execute(query)\n",
    "dados = cursor.fetchall()\n",
    "colunas = [desc[0] for desc in cursor.description]"
   ]
  },
  {
   "cell_type": "code",
   "execution_count": 64,
   "id": "bff248ef",
   "metadata": {},
   "outputs": [
    {
     "name": "stdout",
     "output_type": "stream",
     "text": [
      "CSV salvo com sucesso!\n"
     ]
    }
   ],
   "source": [
    "# Executando a consulta e salvando o resultado em um DataFrame.\n",
    "df = pd.DataFrame(dados,columns=colunas)\n",
    "\n",
    "# Salvando o DataFrame em um arquivo CSV.\n",
    "df.to_csv(r\"C:\\Users\\cassi\\GitHub\\Projeto-racas-de-caes\\Arquivos/Resultado7,1.csv\",index=False, encoding='utf-8-sig')\n",
    "print('CSV salvo com sucesso!')\n",
    "\n",
    "# Fechando a conexão com o banco de dados.\n",
    "cursor.close()\n",
    "conexao.close()"
   ]
  }
 ],
 "metadata": {
  "kernelspec": {
   "display_name": "base",
   "language": "python",
   "name": "python3"
  },
  "language_info": {
   "codemirror_mode": {
    "name": "ipython",
    "version": 3
   },
   "file_extension": ".py",
   "mimetype": "text/x-python",
   "name": "python",
   "nbconvert_exporter": "python",
   "pygments_lexer": "ipython3",
   "version": "3.11.7"
  }
 },
 "nbformat": 4,
 "nbformat_minor": 5
}
